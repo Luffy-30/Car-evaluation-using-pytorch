{
 "cells": [
  {
   "cell_type": "code",
   "execution_count": 23,
   "metadata": {},
   "outputs": [],
   "source": [
    "# Author - Ritvik Khanna \n",
    "# Date - 04/05/18 \n",
    "# Version - 1.0\n",
    "\n",
    "import pandas as pd\n",
    "\n",
    "# import os\n",
    "# print(os.listdir(\"../input\"))\n",
    "# Load dataset\n",
    "df = pd.read_csv(\"car_evaluation.csv\", names = [\"buying\",\"maint\", \"doors\", \"persons\", \"lug_boot\",\"safety\",\"class\"])"
   ]
  },
  {
   "cell_type": "code",
   "execution_count": 24,
   "metadata": {},
   "outputs": [
    {
     "data": {
      "text/html": [
       "<div>\n",
       "<style scoped>\n",
       "    .dataframe tbody tr th:only-of-type {\n",
       "        vertical-align: middle;\n",
       "    }\n",
       "\n",
       "    .dataframe tbody tr th {\n",
       "        vertical-align: top;\n",
       "    }\n",
       "\n",
       "    .dataframe thead th {\n",
       "        text-align: right;\n",
       "    }\n",
       "</style>\n",
       "<table border=\"1\" class=\"dataframe\">\n",
       "  <thead>\n",
       "    <tr style=\"text-align: right;\">\n",
       "      <th></th>\n",
       "      <th>buying</th>\n",
       "      <th>maint</th>\n",
       "      <th>doors</th>\n",
       "      <th>persons</th>\n",
       "      <th>lug_boot</th>\n",
       "      <th>safety</th>\n",
       "      <th>class</th>\n",
       "    </tr>\n",
       "  </thead>\n",
       "  <tbody>\n",
       "    <tr>\n",
       "      <th>count</th>\n",
       "      <td>1728</td>\n",
       "      <td>1728</td>\n",
       "      <td>1728</td>\n",
       "      <td>1728</td>\n",
       "      <td>1728</td>\n",
       "      <td>1728</td>\n",
       "      <td>1728</td>\n",
       "    </tr>\n",
       "    <tr>\n",
       "      <th>unique</th>\n",
       "      <td>4</td>\n",
       "      <td>4</td>\n",
       "      <td>4</td>\n",
       "      <td>3</td>\n",
       "      <td>3</td>\n",
       "      <td>3</td>\n",
       "      <td>4</td>\n",
       "    </tr>\n",
       "    <tr>\n",
       "      <th>top</th>\n",
       "      <td>med</td>\n",
       "      <td>med</td>\n",
       "      <td>5more</td>\n",
       "      <td>2</td>\n",
       "      <td>med</td>\n",
       "      <td>med</td>\n",
       "      <td>unacc</td>\n",
       "    </tr>\n",
       "    <tr>\n",
       "      <th>freq</th>\n",
       "      <td>432</td>\n",
       "      <td>432</td>\n",
       "      <td>432</td>\n",
       "      <td>576</td>\n",
       "      <td>576</td>\n",
       "      <td>576</td>\n",
       "      <td>1210</td>\n",
       "    </tr>\n",
       "  </tbody>\n",
       "</table>\n",
       "</div>"
      ],
      "text/plain": [
       "       buying maint  doors persons lug_boot safety  class\n",
       "count    1728  1728   1728    1728     1728   1728   1728\n",
       "unique      4     4      4       3        3      3      4\n",
       "top       med   med  5more       2      med    med  unacc\n",
       "freq      432   432    432     576      576    576   1210"
      ]
     },
     "execution_count": 24,
     "metadata": {},
     "output_type": "execute_result"
    }
   ],
   "source": [
    "df.describe()"
   ]
  },
  {
   "cell_type": "markdown",
   "metadata": {},
   "source": [
    "### Creating a sample Genetic Algorithm Classifier ::::::: (not related to the above problem?)"
   ]
  },
  {
   "cell_type": "code",
   "execution_count": 84,
   "metadata": {},
   "outputs": [
    {
     "name": "stdout",
     "output_type": "stream",
     "text": [
      "[1, 2, 3, 4, 5, 6, 7, 8, 9]\n"
     ]
    }
   ],
   "source": [
    "import random,copy\n",
    "\n",
    "sample_chrm=list(range(1,10)) \n",
    "print(sample_chrm)\n",
    "init_population=[]\n",
    "# random.seed(0)\n",
    "population_size=5"
   ]
  },
  {
   "cell_type": "code",
   "execution_count": 85,
   "metadata": {},
   "outputs": [],
   "source": [
    "for i in range(population_size):\n",
    "    new_chrm = copy.copy(sample_chrm)\n",
    "    random.shuffle(new_chrm)\n",
    "    init_population.append(new_chrm)"
   ]
  },
  {
   "cell_type": "code",
   "execution_count": 86,
   "metadata": {},
   "outputs": [
    {
     "data": {
      "text/plain": [
       "[[7, 3, 8, 2, 6, 9, 4, 5, 1],\n",
       " [9, 1, 4, 3, 5, 6, 8, 7, 2],\n",
       " [1, 2, 6, 8, 9, 3, 5, 7, 4],\n",
       " [9, 7, 8, 3, 4, 1, 5, 6, 2],\n",
       " [4, 8, 7, 3, 2, 6, 9, 5, 1]]"
      ]
     },
     "execution_count": 86,
     "metadata": {},
     "output_type": "execute_result"
    }
   ],
   "source": [
    "init_population"
   ]
  },
  {
   "cell_type": "code",
   "execution_count": 87,
   "metadata": {},
   "outputs": [],
   "source": [
    "cost_matrix = [] # an empty list \n",
    "cost_matrix.append([0,0,0,0,0,0,0,0,0,0]) \n",
    "cost_matrix.append([0,0,1,5,6,9,2,3,7,8]) \n",
    "cost_matrix.append([0,1,0,8,6,2,4,7,9,5]) \n",
    "cost_matrix.append([0,5,8,0,3,2,7,6,8,9]) \n",
    "cost_matrix.append([0,6,6,3,0,9,7,4,1,5]) \n",
    "cost_matrix.append([0,9,2,2,9,0,1,4,7,3]) \n",
    "cost_matrix.append([0,2,4,7,7,1,0,7,4,1]) \n",
    "cost_matrix.append([0,3,7,6,4,4,7,0,8,3]) \n",
    "cost_matrix.append([0,7,9,8,1,7,4,8,0,1]) \n",
    "cost_matrix.append([0,8,5,9,5,3,1,3,1,0])"
   ]
  },
  {
   "cell_type": "code",
   "execution_count": 88,
   "metadata": {},
   "outputs": [],
   "source": [
    "# for a given chromosome the total cost of travel can be calculated like the following\n",
    "chrm=[4,1,5,6,9,2,3,7,8]\n",
    "cost=0\n",
    "last_city=chrm[0]\n",
    "for current_city in chrm:\n",
    "    cost+=cost_matrix[last_city][current_city]\n",
    "    last_city=current_city\n"
   ]
  },
  {
   "cell_type": "code",
   "execution_count": 89,
   "metadata": {},
   "outputs": [
    {
     "data": {
      "text/plain": [
       "44"
      ]
     },
     "execution_count": 89,
     "metadata": {},
     "output_type": "execute_result"
    }
   ],
   "source": [
    "cost #high cost value means low fitness"
   ]
  },
  {
   "cell_type": "code",
   "execution_count": 96,
   "metadata": {},
   "outputs": [],
   "source": [
    "##selection function using roullete wheel method\n",
    "\n",
    "import random\n",
    "import functools\n",
    "import operator\n",
    "\n",
    "fitness_list = [6.0, 9.0, 4.0, 3.0, 5.0, 8.0, 3.0, 6.0, 3.0, 3.0]\n",
    "fitness_sum = functools.reduce( operator.add, fitness_list)\n",
    "prob_list = map( (lambda x: x/fitness_sum), fitness_list)\n",
    "cum_value = 0 \n",
    "cum_prob_list = [] \n",
    "for prob in prob_list:\n",
    "    cum_prob_list.append( cum_value + prob ) \n",
    "    cum_value += prob\n",
    "cum_prob_list[-1] = 1.0\n"
   ]
  },
  {
   "cell_type": "code",
   "execution_count": 102,
   "metadata": {},
   "outputs": [],
   "source": [
    "\n",
    "selected = [] \n",
    "size = 100\n",
    "for i in range(size):\n",
    "    rn = random.random()\n",
    "    for j, cum_prob in enumerate(cum_prob_list):\n",
    "        if rn<= cum_prob: \n",
    "            selected.append( j) \n",
    "            break"
   ]
  },
  {
   "cell_type": "code",
   "execution_count": null,
   "metadata": {},
   "outputs": [],
   "source": []
  }
 ],
 "metadata": {
  "kernelspec": {
   "display_name": "Python 3",
   "language": "python",
   "name": "python3"
  },
  "language_info": {
   "codemirror_mode": {
    "name": "ipython",
    "version": 3
   },
   "file_extension": ".py",
   "mimetype": "text/x-python",
   "name": "python",
   "nbconvert_exporter": "python",
   "pygments_lexer": "ipython3",
   "version": "3.6.5"
  }
 },
 "nbformat": 4,
 "nbformat_minor": 2
}
